{
 "cells": [
  {
   "cell_type": "code",
   "execution_count": 1,
   "id": "f06bc2f7-de15-4019-b6af-a3596af5a199",
   "metadata": {},
   "outputs": [
    {
     "data": {
      "text/html": [
       "<div>\n",
       "<style scoped>\n",
       "    .dataframe tbody tr th:only-of-type {\n",
       "        vertical-align: middle;\n",
       "    }\n",
       "\n",
       "    .dataframe tbody tr th {\n",
       "        vertical-align: top;\n",
       "    }\n",
       "\n",
       "    .dataframe thead th {\n",
       "        text-align: right;\n",
       "    }\n",
       "</style>\n",
       "<table border=\"1\" class=\"dataframe\">\n",
       "  <thead>\n",
       "    <tr style=\"text-align: right;\">\n",
       "      <th></th>\n",
       "      <th>trackid</th>\n",
       "      <th>artist_name</th>\n",
       "      <th>track_name</th>\n",
       "      <th>pid</th>\n",
       "    </tr>\n",
       "  </thead>\n",
       "  <tbody>\n",
       "    <tr>\n",
       "      <th>0</th>\n",
       "      <td>spotify:track:5IbCV9Icebx8rR6wAp5hhP</td>\n",
       "      <td>Original Broadway Cast - The Little Mermaid</td>\n",
       "      <td>Fathoms Below - Broadway Cast Recording</td>\n",
       "      <td>1000</td>\n",
       "    </tr>\n",
       "    <tr>\n",
       "      <th>1</th>\n",
       "      <td>spotify:track:6rKVAvjHcxAzZ1BHtwh5yC</td>\n",
       "      <td>Original Broadway Cast - The Little Mermaid</td>\n",
       "      <td>Daughters Of Triton - Broadway Cast Recording</td>\n",
       "      <td>1000</td>\n",
       "    </tr>\n",
       "    <tr>\n",
       "      <th>2</th>\n",
       "      <td>spotify:track:6Jlkb1Wh08RYHstWScsTvg</td>\n",
       "      <td>Original Broadway Cast - The Little Mermaid</td>\n",
       "      <td>The World Above - Broadway Cast Recording</td>\n",
       "      <td>1000</td>\n",
       "    </tr>\n",
       "    <tr>\n",
       "      <th>3</th>\n",
       "      <td>spotify:track:0XhC8bfStML9ygBmfOt1JJ</td>\n",
       "      <td>Original Broadway Cast - The Little Mermaid</td>\n",
       "      <td>Human Stuff - Broadway Cast Recording</td>\n",
       "      <td>1000</td>\n",
       "    </tr>\n",
       "    <tr>\n",
       "      <th>4</th>\n",
       "      <td>spotify:track:0ABxAcsRWlqckkyONsfP67</td>\n",
       "      <td>Original Broadway Cast - The Little Mermaid</td>\n",
       "      <td>I Want the Good Times Back - Broadway Cast Rec...</td>\n",
       "      <td>1000</td>\n",
       "    </tr>\n",
       "  </tbody>\n",
       "</table>\n",
       "</div>"
      ],
      "text/plain": [
       "                                trackid  \\\n",
       "0  spotify:track:5IbCV9Icebx8rR6wAp5hhP   \n",
       "1  spotify:track:6rKVAvjHcxAzZ1BHtwh5yC   \n",
       "2  spotify:track:6Jlkb1Wh08RYHstWScsTvg   \n",
       "3  spotify:track:0XhC8bfStML9ygBmfOt1JJ   \n",
       "4  spotify:track:0ABxAcsRWlqckkyONsfP67   \n",
       "\n",
       "                                   artist_name  \\\n",
       "0  Original Broadway Cast - The Little Mermaid   \n",
       "1  Original Broadway Cast - The Little Mermaid   \n",
       "2  Original Broadway Cast - The Little Mermaid   \n",
       "3  Original Broadway Cast - The Little Mermaid   \n",
       "4  Original Broadway Cast - The Little Mermaid   \n",
       "\n",
       "                                          track_name   pid  \n",
       "0            Fathoms Below - Broadway Cast Recording  1000  \n",
       "1      Daughters Of Triton - Broadway Cast Recording  1000  \n",
       "2          The World Above - Broadway Cast Recording  1000  \n",
       "3              Human Stuff - Broadway Cast Recording  1000  \n",
       "4  I Want the Good Times Back - Broadway Cast Rec...  1000  "
      ]
     },
     "execution_count": 1,
     "metadata": {},
     "output_type": "execute_result"
    }
   ],
   "source": [
    "from FindPlaylistsFinal import FindPlaylists\n",
    "import pandas as pd\n",
    "\n",
    "url = 'https://raw.githubusercontent.com/tpatel0/PIC-16A-spotify-project/main/clean.csv?token=GHSAT0AAAAAAB26626KC3OWLCQOODX4INGEY4VFZCA'\n",
    "\n",
    "data = pd.read_csv(url)\n",
    "\n",
    "df = data.drop(['Unnamed: 0.1', 'Unnamed: 0'], axis = 1)\n",
    "\n",
    "# display first five entries of dataset\n",
    "df.head()"
   ]
  },
  {
   "cell_type": "code",
   "execution_count": 2,
   "id": "3dfc19f5-256a-4d08-95ec-3f2addf95e08",
   "metadata": {},
   "outputs": [
    {
     "name": "stdout",
     "output_type": "stream",
     "text": [
      "Type in an artist and/or song below, and hit enter. You can leave blank if you need to.\n"
     ]
    },
    {
     "name": "stdin",
     "output_type": "stream",
     "text": [
      "Artist Name :  Taylor Swift\n",
      "Track Name :  22\n"
     ]
    }
   ],
   "source": [
    "F = FindPlaylists(df)"
   ]
  },
  {
   "cell_type": "code",
   "execution_count": 3,
   "id": "b4d9b8c3-b4d2-4653-8157-0b490c380046",
   "metadata": {},
   "outputs": [
    {
     "data": {
      "text/plain": [
       "['Taylor Swift', '22']"
      ]
     },
     "execution_count": 3,
     "metadata": {},
     "output_type": "execute_result"
    }
   ],
   "source": [
    "F.query()"
   ]
  },
  {
   "cell_type": "code",
   "execution_count": 4,
   "id": "51cad801-8c97-42b8-a996-62bc1c79afd3",
   "metadata": {},
   "outputs": [
    {
     "name": "stdout",
     "output_type": "stream",
     "text": [
      "Finding playlists that contain ['Taylor Swift', '22'].\n"
     ]
    }
   ],
   "source": [
    "print(F.__str__())"
   ]
  },
  {
   "cell_type": "code",
   "execution_count": 5,
   "id": "c84feffa-189b-450d-aa75-714e7a789157",
   "metadata": {},
   "outputs": [
    {
     "data": {
      "text/plain": [
       "(10.9375, 1858)"
      ]
     },
     "execution_count": 5,
     "metadata": {},
     "output_type": "execute_result"
    }
   ],
   "source": [
    "F.findRecs()"
   ]
  },
  {
   "cell_type": "code",
   "execution_count": 6,
   "id": "dc941b29-7089-46dc-a98b-6a0d7f8d2083",
   "metadata": {},
   "outputs": [
    {
     "name": "stdout",
     "output_type": "stream",
     "text": [
      "😃😃 You should listen to playlist with ID 1858.\n",
      "♫🎸 It has the closest match to ['Taylor Swift', '22'] with a score of 10.94.\n",
      "🎶🎼 This playlist includes songs such as: \n"
     ]
    },
    {
     "data": {
      "text/html": [
       "<div>\n",
       "<style scoped>\n",
       "    .dataframe tbody tr th:only-of-type {\n",
       "        vertical-align: middle;\n",
       "    }\n",
       "\n",
       "    .dataframe tbody tr th {\n",
       "        vertical-align: top;\n",
       "    }\n",
       "\n",
       "    .dataframe thead th {\n",
       "        text-align: right;\n",
       "    }\n",
       "</style>\n",
       "<table border=\"1\" class=\"dataframe\">\n",
       "  <thead>\n",
       "    <tr style=\"text-align: right;\">\n",
       "      <th></th>\n",
       "      <th>trackid</th>\n",
       "      <th>artist_name</th>\n",
       "      <th>track_name</th>\n",
       "      <th>pid</th>\n",
       "    </tr>\n",
       "  </thead>\n",
       "  <tbody>\n",
       "    <tr>\n",
       "      <th>57504</th>\n",
       "      <td>spotify:track:5Q0Nhxo0l2bP3pNjpGJwV1</td>\n",
       "      <td>Miley Cyrus</td>\n",
       "      <td>Party In The U.S.A.</td>\n",
       "      <td>1858</td>\n",
       "    </tr>\n",
       "    <tr>\n",
       "      <th>57505</th>\n",
       "      <td>spotify:track:6Eu31gddWw0gOGO506pJYA</td>\n",
       "      <td>Taylor Swift</td>\n",
       "      <td>Fearless</td>\n",
       "      <td>1858</td>\n",
       "    </tr>\n",
       "    <tr>\n",
       "      <th>57506</th>\n",
       "      <td>spotify:track:3GCL1PydwsLodcpv0Ll1ch</td>\n",
       "      <td>Taylor Swift</td>\n",
       "      <td>You Belong With Me</td>\n",
       "      <td>1858</td>\n",
       "    </tr>\n",
       "    <tr>\n",
       "      <th>57507</th>\n",
       "      <td>spotify:track:3lm4L3pPL32PFy74dR17OR</td>\n",
       "      <td>Taylor Swift</td>\n",
       "      <td>Enchanted - Live/2011</td>\n",
       "      <td>1858</td>\n",
       "    </tr>\n",
       "    <tr>\n",
       "      <th>57508</th>\n",
       "      <td>spotify:track:7KdWkoKZwX7pKSl7OL7b4l</td>\n",
       "      <td>Sabrina Carpenter</td>\n",
       "      <td>Eyes Wide Open</td>\n",
       "      <td>1858</td>\n",
       "    </tr>\n",
       "    <tr>\n",
       "      <th>57509</th>\n",
       "      <td>spotify:track:1mea3bSkSGXuIRvnydlB5b</td>\n",
       "      <td>Coldplay</td>\n",
       "      <td>Viva La Vida</td>\n",
       "      <td>1858</td>\n",
       "    </tr>\n",
       "    <tr>\n",
       "      <th>57510</th>\n",
       "      <td>spotify:track:0dlg3oo4rWgJ0kCU8eXld7</td>\n",
       "      <td>Sabrina Carpenter</td>\n",
       "      <td>We'll Be The Stars</td>\n",
       "      <td>1858</td>\n",
       "    </tr>\n",
       "    <tr>\n",
       "      <th>57511</th>\n",
       "      <td>spotify:track:7BqBn9nzAq8spo5e7cZ0dJ</td>\n",
       "      <td>Bruno Mars</td>\n",
       "      <td>Just the Way You Are</td>\n",
       "      <td>1858</td>\n",
       "    </tr>\n",
       "    <tr>\n",
       "      <th>57512</th>\n",
       "      <td>spotify:track:4RCWB3V8V0dignt99LZ8vH</td>\n",
       "      <td>Plain White T's</td>\n",
       "      <td>Hey There Delilah</td>\n",
       "      <td>1858</td>\n",
       "    </tr>\n",
       "    <tr>\n",
       "      <th>57513</th>\n",
       "      <td>spotify:track:6mghCOaaSvrke0z1EUVUIf</td>\n",
       "      <td>Train</td>\n",
       "      <td>Hey, Soul Sister</td>\n",
       "      <td>1858</td>\n",
       "    </tr>\n",
       "  </tbody>\n",
       "</table>\n",
       "</div>"
      ],
      "text/plain": [
       "                                    trackid        artist_name  \\\n",
       "57504  spotify:track:5Q0Nhxo0l2bP3pNjpGJwV1        Miley Cyrus   \n",
       "57505  spotify:track:6Eu31gddWw0gOGO506pJYA       Taylor Swift   \n",
       "57506  spotify:track:3GCL1PydwsLodcpv0Ll1ch       Taylor Swift   \n",
       "57507  spotify:track:3lm4L3pPL32PFy74dR17OR       Taylor Swift   \n",
       "57508  spotify:track:7KdWkoKZwX7pKSl7OL7b4l  Sabrina Carpenter   \n",
       "57509  spotify:track:1mea3bSkSGXuIRvnydlB5b           Coldplay   \n",
       "57510  spotify:track:0dlg3oo4rWgJ0kCU8eXld7  Sabrina Carpenter   \n",
       "57511  spotify:track:7BqBn9nzAq8spo5e7cZ0dJ         Bruno Mars   \n",
       "57512  spotify:track:4RCWB3V8V0dignt99LZ8vH    Plain White T's   \n",
       "57513  spotify:track:6mghCOaaSvrke0z1EUVUIf              Train   \n",
       "\n",
       "                  track_name   pid  \n",
       "57504    Party In The U.S.A.  1858  \n",
       "57505               Fearless  1858  \n",
       "57506     You Belong With Me  1858  \n",
       "57507  Enchanted - Live/2011  1858  \n",
       "57508         Eyes Wide Open  1858  \n",
       "57509           Viva La Vida  1858  \n",
       "57510     We'll Be The Stars  1858  \n",
       "57511   Just the Way You Are  1858  \n",
       "57512      Hey There Delilah  1858  \n",
       "57513       Hey, Soul Sister  1858  "
      ]
     },
     "execution_count": 6,
     "metadata": {},
     "output_type": "execute_result"
    }
   ],
   "source": [
    "F.showResults()"
   ]
  }
 ],
 "metadata": {
  "kernelspec": {
   "display_name": "Python 3 (ipykernel)",
   "language": "python",
   "name": "python3"
  },
  "language_info": {
   "codemirror_mode": {
    "name": "ipython",
    "version": 3
   },
   "file_extension": ".py",
   "mimetype": "text/x-python",
   "name": "python",
   "nbconvert_exporter": "python",
   "pygments_lexer": "ipython3",
   "version": "3.9.12"
  }
 },
 "nbformat": 4,
 "nbformat_minor": 5
}
