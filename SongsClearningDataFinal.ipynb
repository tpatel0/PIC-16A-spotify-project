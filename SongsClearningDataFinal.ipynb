{
 "cells": [
  {
   "cell_type": "markdown",
   "id": "065ef0e9-cd53-4f87-81ec-9a9504c24dc9",
   "metadata": {},
   "source": [
    "**Step 1: Convert Json File into CSV**"
   ]
  },
  {
   "cell_type": "code",
   "execution_count": 6,
   "id": "26f52ae1-aef5-4fce-b817-6e6b7d797a77",
   "metadata": {},
   "outputs": [],
   "source": [
    "import pandas as pd\n",
    "import numpy as np\n",
    "import json\n",
    "from JsontoCSVConverter import jsonToCSV"
   ]
  },
  {
   "cell_type": "code",
   "execution_count": 7,
   "id": "1d3b59f7-cd0c-44d2-8411-7ed7397e2bf7",
   "metadata": {},
   "outputs": [],
   "source": [
    "jsonToCSV()"
   ]
  },
  {
   "cell_type": "markdown",
   "id": "03adf007-7be9-449e-ba6b-83c2b667deb5",
   "metadata": {},
   "source": [
    "**Step 2: Clean columns of the data**"
   ]
  },
  {
   "cell_type": "code",
   "execution_count": 3,
   "id": "5587b6c8-39d6-45d0-bc2c-8d28ca43cfaa",
   "metadata": {},
   "outputs": [
    {
     "data": {
      "text/html": [
       "<div>\n",
       "<style scoped>\n",
       "    .dataframe tbody tr th:only-of-type {\n",
       "        vertical-align: middle;\n",
       "    }\n",
       "\n",
       "    .dataframe tbody tr th {\n",
       "        vertical-align: top;\n",
       "    }\n",
       "\n",
       "    .dataframe thead th {\n",
       "        text-align: right;\n",
       "    }\n",
       "</style>\n",
       "<table border=\"1\" class=\"dataframe\">\n",
       "  <thead>\n",
       "    <tr style=\"text-align: right;\">\n",
       "      <th></th>\n",
       "      <th>Unnamed: 0</th>\n",
       "      <th>trackid</th>\n",
       "      <th>artist_name</th>\n",
       "      <th>track_name</th>\n",
       "      <th>pid</th>\n",
       "    </tr>\n",
       "  </thead>\n",
       "  <tbody>\n",
       "    <tr>\n",
       "      <th>0</th>\n",
       "      <td>0</td>\n",
       "      <td>spotify:track:5IbCV9Icebx8rR6wAp5hhP</td>\n",
       "      <td>Original Broadway Cast - The Little Mermaid</td>\n",
       "      <td>Fathoms Below - Broadway Cast Recording</td>\n",
       "      <td>1000</td>\n",
       "    </tr>\n",
       "    <tr>\n",
       "      <th>1</th>\n",
       "      <td>1</td>\n",
       "      <td>spotify:track:6rKVAvjHcxAzZ1BHtwh5yC</td>\n",
       "      <td>Original Broadway Cast - The Little Mermaid</td>\n",
       "      <td>Daughters Of Triton - Broadway Cast Recording</td>\n",
       "      <td>1000</td>\n",
       "    </tr>\n",
       "    <tr>\n",
       "      <th>2</th>\n",
       "      <td>2</td>\n",
       "      <td>spotify:track:6Jlkb1Wh08RYHstWScsTvg</td>\n",
       "      <td>Original Broadway Cast - The Little Mermaid</td>\n",
       "      <td>The World Above - Broadway Cast Recording</td>\n",
       "      <td>1000</td>\n",
       "    </tr>\n",
       "    <tr>\n",
       "      <th>3</th>\n",
       "      <td>3</td>\n",
       "      <td>spotify:track:0XhC8bfStML9ygBmfOt1JJ</td>\n",
       "      <td>Original Broadway Cast - The Little Mermaid</td>\n",
       "      <td>Human Stuff - Broadway Cast Recording</td>\n",
       "      <td>1000</td>\n",
       "    </tr>\n",
       "    <tr>\n",
       "      <th>4</th>\n",
       "      <td>4</td>\n",
       "      <td>spotify:track:0ABxAcsRWlqckkyONsfP67</td>\n",
       "      <td>Original Broadway Cast - The Little Mermaid</td>\n",
       "      <td>I Want the Good Times Back - Broadway Cast Rec...</td>\n",
       "      <td>1000</td>\n",
       "    </tr>\n",
       "  </tbody>\n",
       "</table>\n",
       "</div>"
      ],
      "text/plain": [
       "   Unnamed: 0                               trackid  \\\n",
       "0           0  spotify:track:5IbCV9Icebx8rR6wAp5hhP   \n",
       "1           1  spotify:track:6rKVAvjHcxAzZ1BHtwh5yC   \n",
       "2           2  spotify:track:6Jlkb1Wh08RYHstWScsTvg   \n",
       "3           3  spotify:track:0XhC8bfStML9ygBmfOt1JJ   \n",
       "4           4  spotify:track:0ABxAcsRWlqckkyONsfP67   \n",
       "\n",
       "                                   artist_name  \\\n",
       "0  Original Broadway Cast - The Little Mermaid   \n",
       "1  Original Broadway Cast - The Little Mermaid   \n",
       "2  Original Broadway Cast - The Little Mermaid   \n",
       "3  Original Broadway Cast - The Little Mermaid   \n",
       "4  Original Broadway Cast - The Little Mermaid   \n",
       "\n",
       "                                          track_name   pid  \n",
       "0            Fathoms Below - Broadway Cast Recording  1000  \n",
       "1      Daughters Of Triton - Broadway Cast Recording  1000  \n",
       "2          The World Above - Broadway Cast Recording  1000  \n",
       "3              Human Stuff - Broadway Cast Recording  1000  \n",
       "4  I Want the Good Times Back - Broadway Cast Rec...  1000  "
      ]
     },
     "execution_count": 3,
     "metadata": {},
     "output_type": "execute_result"
    }
   ],
   "source": [
    "ms = pd.read_csv('toclean.csv')\n",
    "ms.head()"
   ]
  },
  {
   "cell_type": "code",
   "execution_count": 4,
   "id": "39078b00-56f9-429d-8049-fd867092a78b",
   "metadata": {},
   "outputs": [
    {
     "data": {
      "text/html": [
       "<div>\n",
       "<style scoped>\n",
       "    .dataframe tbody tr th:only-of-type {\n",
       "        vertical-align: middle;\n",
       "    }\n",
       "\n",
       "    .dataframe tbody tr th {\n",
       "        vertical-align: top;\n",
       "    }\n",
       "\n",
       "    .dataframe thead th {\n",
       "        text-align: right;\n",
       "    }\n",
       "</style>\n",
       "<table border=\"1\" class=\"dataframe\">\n",
       "  <thead>\n",
       "    <tr style=\"text-align: right;\">\n",
       "      <th></th>\n",
       "      <th>Unnamed: 0</th>\n",
       "      <th>trackid</th>\n",
       "      <th>artist_name</th>\n",
       "      <th>track_name</th>\n",
       "      <th>pid</th>\n",
       "    </tr>\n",
       "  </thead>\n",
       "  <tbody>\n",
       "    <tr>\n",
       "      <th>0</th>\n",
       "      <td>0</td>\n",
       "      <td>spotify:track:5IbCV9Icebx8rR6wAp5hhP</td>\n",
       "      <td>Original Broadway Cast - The Little Mermaid</td>\n",
       "      <td>Fathoms Below - Broadway Cast Recording</td>\n",
       "      <td>1000</td>\n",
       "    </tr>\n",
       "    <tr>\n",
       "      <th>1</th>\n",
       "      <td>1</td>\n",
       "      <td>spotify:track:6rKVAvjHcxAzZ1BHtwh5yC</td>\n",
       "      <td>Original Broadway Cast - The Little Mermaid</td>\n",
       "      <td>Daughters Of Triton - Broadway Cast Recording</td>\n",
       "      <td>1000</td>\n",
       "    </tr>\n",
       "    <tr>\n",
       "      <th>2</th>\n",
       "      <td>2</td>\n",
       "      <td>spotify:track:6Jlkb1Wh08RYHstWScsTvg</td>\n",
       "      <td>Original Broadway Cast - The Little Mermaid</td>\n",
       "      <td>The World Above - Broadway Cast Recording</td>\n",
       "      <td>1000</td>\n",
       "    </tr>\n",
       "    <tr>\n",
       "      <th>3</th>\n",
       "      <td>3</td>\n",
       "      <td>spotify:track:0XhC8bfStML9ygBmfOt1JJ</td>\n",
       "      <td>Original Broadway Cast - The Little Mermaid</td>\n",
       "      <td>Human Stuff - Broadway Cast Recording</td>\n",
       "      <td>1000</td>\n",
       "    </tr>\n",
       "    <tr>\n",
       "      <th>4</th>\n",
       "      <td>4</td>\n",
       "      <td>spotify:track:0ABxAcsRWlqckkyONsfP67</td>\n",
       "      <td>Original Broadway Cast - The Little Mermaid</td>\n",
       "      <td>I Want the Good Times Back - Broadway Cast Rec...</td>\n",
       "      <td>1000</td>\n",
       "    </tr>\n",
       "  </tbody>\n",
       "</table>\n",
       "</div>"
      ],
      "text/plain": [
       "   Unnamed: 0                               trackid  \\\n",
       "0           0  spotify:track:5IbCV9Icebx8rR6wAp5hhP   \n",
       "1           1  spotify:track:6rKVAvjHcxAzZ1BHtwh5yC   \n",
       "2           2  spotify:track:6Jlkb1Wh08RYHstWScsTvg   \n",
       "3           3  spotify:track:0XhC8bfStML9ygBmfOt1JJ   \n",
       "4           4  spotify:track:0ABxAcsRWlqckkyONsfP67   \n",
       "\n",
       "                                   artist_name  \\\n",
       "0  Original Broadway Cast - The Little Mermaid   \n",
       "1  Original Broadway Cast - The Little Mermaid   \n",
       "2  Original Broadway Cast - The Little Mermaid   \n",
       "3  Original Broadway Cast - The Little Mermaid   \n",
       "4  Original Broadway Cast - The Little Mermaid   \n",
       "\n",
       "                                          track_name   pid  \n",
       "0            Fathoms Below - Broadway Cast Recording  1000  \n",
       "1      Daughters Of Triton - Broadway Cast Recording  1000  \n",
       "2          The World Above - Broadway Cast Recording  1000  \n",
       "3              Human Stuff - Broadway Cast Recording  1000  \n",
       "4  I Want the Good Times Back - Broadway Cast Rec...  1000  "
      ]
     },
     "execution_count": 4,
     "metadata": {},
     "output_type": "execute_result"
    }
   ],
   "source": [
    "ms.drop([\"Unnamed: 0\"], axis=1)\n",
    "ms.head()"
   ]
  },
  {
   "cell_type": "markdown",
   "id": "0cd08401-a0fc-4e38-8e3a-3865f19bc6ac",
   "metadata": {},
   "source": [
    "**Step 3: Save the new cleaned csv**"
   ]
  },
  {
   "cell_type": "code",
   "execution_count": 5,
   "id": "7988d240-7fa5-437f-93f9-f15c836381ef",
   "metadata": {},
   "outputs": [],
   "source": [
    "ms.to_csv('clean.csv')"
   ]
  },
  {
   "cell_type": "code",
   "execution_count": null,
   "id": "ed8f6a37-db96-438b-a7d3-e1c4ebb000f4",
   "metadata": {},
   "outputs": [],
   "source": []
  }
 ],
 "metadata": {
  "kernelspec": {
   "display_name": "Python 3 (ipykernel)",
   "language": "python",
   "name": "python3"
  },
  "language_info": {
   "codemirror_mode": {
    "name": "ipython",
    "version": 3
   },
   "file_extension": ".py",
   "mimetype": "text/x-python",
   "name": "python",
   "nbconvert_exporter": "python",
   "pygments_lexer": "ipython3",
   "version": "3.9.12"
  }
 },
 "nbformat": 4,
 "nbformat_minor": 5
}
